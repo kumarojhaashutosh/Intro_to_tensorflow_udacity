{
  "nbformat": 4,
  "nbformat_minor": 0,
  "metadata": {
    "colab": {
      "name": "tensorflow_udacity_1",
      "provenance": [],
      "include_colab_link": true
    },
    "kernelspec": {
      "name": "python3",
      "display_name": "Python 3"
    }
  },
  "cells": [
    {
      "cell_type": "markdown",
      "metadata": {
        "id": "view-in-github",
        "colab_type": "text"
      },
      "source": [
        "<a href=\"https://colab.research.google.com/github/kumarojhaashutosh/Intro_to_tensorflow_udacity/blob/master/tensorflow_udacity_1.ipynb\" target=\"_parent\"><img src=\"https://colab.research.google.com/assets/colab-badge.svg\" alt=\"Open In Colab\"/></a>"
      ]
    },
    {
      "cell_type": "code",
      "metadata": {
        "id": "eDcAWP00icIY",
        "colab_type": "code",
        "colab": {}
      },
      "source": [
        "%tensorflow_version 2.x\n",
        "import tensorflow as tf\n",
        "import numpy as np"
      ],
      "execution_count": 0,
      "outputs": []
    },
    {
      "cell_type": "code",
      "metadata": {
        "id": "mTm2sj1kKoYS",
        "colab_type": "code",
        "colab": {
          "base_uri": "https://localhost:8080/",
          "height": 147
        },
        "outputId": "a687ae59-920f-4b5c-8cbb-72941b039d0b"
      },
      "source": [
        "celsius_q    = np.array([-40, -10,  0,  8, 15, 22,  38],  dtype=float)\n",
        "fahrenheit_a = np.array([-40,  14, 32, 46, 59, 72, 100],  dtype=float)\n",
        "\n",
        "for i, c in enumerate(celsius_q):\n",
        "  print('{} C : {} F'.format(c, fahrenheit_a[i]))"
      ],
      "execution_count": 9,
      "outputs": [
        {
          "output_type": "stream",
          "text": [
            "-40.0 C : -40.0 F\n",
            "-10.0 C : 14.0 F\n",
            "0.0 C : 32.0 F\n",
            "8.0 C : 46.0 F\n",
            "15.0 C : 59.0 F\n",
            "22.0 C : 72.0 F\n",
            "38.0 C : 100.0 F\n"
          ],
          "name": "stdout"
        }
      ]
    },
    {
      "cell_type": "code",
      "metadata": {
        "id": "ozIxMHJGMbl-",
        "colab_type": "code",
        "colab": {}
      },
      "source": [
        "model = tf.keras.Sequential([tf.keras.layers.Dense(units = 1, input_shape = [1])])"
      ],
      "execution_count": 0,
      "outputs": []
    },
    {
      "cell_type": "code",
      "metadata": {
        "id": "a4wqWVf8M14I",
        "colab_type": "code",
        "colab": {}
      },
      "source": [
        "model.compile(loss = 'mean_squared_error', optimizer = tf.keras.optimizers.Adam(0.1))"
      ],
      "execution_count": 0,
      "outputs": []
    },
    {
      "cell_type": "code",
      "metadata": {
        "id": "rkmlFCG6Ppgz",
        "colab_type": "code",
        "colab": {}
      },
      "source": [
        "history = model.fit(celsius_q, fahrenheit_a, epochs = 500, verbose = False)"
      ],
      "execution_count": 0,
      "outputs": []
    },
    {
      "cell_type": "code",
      "metadata": {
        "id": "nx-9yasEQKYG",
        "colab_type": "code",
        "colab": {
          "base_uri": "https://localhost:8080/",
          "height": 301
        },
        "outputId": "e7a09ce3-0fc8-47d8-c0d8-a83b7b156288"
      },
      "source": [
        "import matplotlib.pyplot as plt\n",
        "plt.plot(history.history['loss'])\n",
        "plt.xlabel('epochs')\n",
        "plt.ylabel('loss')"
      ],
      "execution_count": 17,
      "outputs": [
        {
          "output_type": "execute_result",
          "data": {
            "text/plain": [
              "Text(0, 0.5, 'loss')"
            ]
          },
          "metadata": {
            "tags": []
          },
          "execution_count": 17
        },
        {
          "output_type": "display_data",
          "data": {
            "image/png": "[encoded data removed]",
            "text/plain": [
              "<Figure size 432x288 with 1 Axes>"
            ]
          },
          "metadata": {
            "tags": []
          }
        }
      ]
    },
    {
      "cell_type": "code",
      "metadata": {
        "id": "rMtuBQhGQ8Uo",
        "colab_type": "code",
        "colab": {
          "base_uri": "https://localhost:8080/",
          "height": 36
        },
        "outputId": "7700a19a-2a08-4271-a17a-c904cdb94546"
      },
      "source": [
        "model.predict([100])"
      ],
      "execution_count": 18,
      "outputs": [
        {
          "output_type": "execute_result",
          "data": {
            "text/plain": [
              "array([[211.28006]], dtype=float32)"
            ]
          },
          "metadata": {
            "tags": []
          },
          "execution_count": 18
        }
      ]
    },
    {
      "cell_type": "code",
      "metadata": {
        "id": "X26gtQWcRPLi",
        "colab_type": "code",
        "colab": {
          "base_uri": "https://localhost:8080/",
          "height": 36
        },
        "outputId": "efd00570-848c-4455-bbd4-e4651631eea9"
      },
      "source": [
        "model.layers[0].get_weights()"
      ],
      "execution_count": 20,
      "outputs": [
        {
          "output_type": "execute_result",
          "data": {
            "text/plain": [
              "[array([[1.8284999]], dtype=float32), array([28.43007], dtype=float32)]"
            ]
          },
          "metadata": {
            "tags": []
          },
          "execution_count": 20
        }
      ]
    },
    {
      "cell_type": "code",
      "metadata": {
        "id": "yiJtKuBLXS82",
        "colab_type": "code",
        "colab": {
          "base_uri": "https://localhost:8080/",
          "height": 491
        },
        "outputId": "0b9bf7ec-aa95-4e35-b7a4-248a5d3de305"
      },
      "source": [
        "model = tf.keras.Sequential([tf.keras.layers.Dense(units = 4, input_shape = [1]), tf.keras.layers.Dense(units = 4), tf.keras.layers.Dense(units = 1)])\n",
        "model.compile(loss = 'mean_squared_error', optimizer = tf.keras.optimizers.Adam(0.1))\n",
        "history = model.fit(celsius_q, fahrenheit_a, epochs = 100, verbose = False)\n",
        "plt.plot(history.history['loss'])\n",
        "print(model.predict([100]))\n",
        "print(model.layers[0].get_weights())\n",
        "print(model.layers[1].get_weights())\n",
        "print(model.layers[2].get_weights())"
      ],
      "execution_count": 27,
      "outputs": [
        {
          "output_type": "stream",
          "text": [
            "[[212.33162]]\n",
            "[array([[ 0.14511102, -0.5199062 , -0.17510259, -0.39532217]],\n",
            "      dtype=float32), array([ 0.34188974, -3.3133547 ,  1.2761921 , -3.1777804 ], dtype=float32)]\n",
            "[array([[ 0.62199634, -0.2621161 , -0.22505113, -0.5585534 ],\n",
            "       [ 0.6004564 , -0.41181424, -0.5792302 ,  0.85653555],\n",
            "       [-1.0123965 , -0.4715694 , -0.10622627, -0.41520151],\n",
            "       [ 0.2873572 ,  0.9579539 , -0.69730794,  0.7415784 ]],\n",
            "      dtype=float32), array([-3.1733701, -2.4515162,  3.2216268, -3.2061236], dtype=float32)]\n",
            "[array([[-0.87232095],\n",
            "       [-0.659384  ],\n",
            "       [ 0.8167084 ],\n",
            "       [-1.5063385 ]], dtype=float32), array([3.1560779], dtype=float32)]\n"
          ],
          "name": "stdout"
        },
        {
          "output_type": "display_data",
          "data": {
            "image/png": "[encoded data removed]",
            "text/plain": [
              "<Figure size 432x288 with 1 Axes>"
            ]
          },
          "metadata": {
            "tags": []
          }
        }
      ]
    }
  ]
}